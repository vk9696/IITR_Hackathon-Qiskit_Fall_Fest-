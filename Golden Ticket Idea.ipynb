{
 "cells": [
  {
   "cell_type": "markdown",
   "id": "9cebc27d-fbe3-4c14-ae47-50510f7742d3",
   "metadata": {
    "id": "9cebc27d-fbe3-4c14-ae47-50510f7742d3"
   },
   "source": [
    "# The Golden Ticket Idea\n",
    "> ## Team: *Qurious Folks*\n",
    ">> Developed by: Aman, Devesh, Vinay, Suman and Sachin \n",
    "<div align = \"right\"><img src=\"D.png\" width=400, height= 200/></div>\n",
    "\n",
    "---\n",
    "$\\newline$\n",
    "**Aim:** Through this project, we aim to find a function of the given image using Quantum Machine Learning.\n",
    "\n",
    "**Idea Description:** Given any 2D continuous picture (simple singular objects), We extracts the data points from the image (x,y points). We now try to find a function corresponding to the image. As we know almost any picture can have an associated function, and any function can be written in a Fourier series.\n",
    "\n",
    "![image.png](data:image/png;base64,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)\n",
    "\n",
    "$\\newline$\n",
    "$\\newline$"
   ]
  },
  {
   "cell_type": "code",
   "execution_count": 1,
   "id": "7b03dbbc-fec7-4bdb-9f36-9dc1b3760e06",
   "metadata": {
    "id": "7b03dbbc-fec7-4bdb-9f36-9dc1b3760e06",
    "tags": []
   },
   "outputs": [],
   "source": [
    "# Importing standard Qiskit libraries\n",
    "from qiskit import QuantumCircuit, transpile, Aer, IBMQ, execute\n",
    "from qiskit.tools.jupyter import *\n",
    "from qiskit.visualization import *\n",
    "\n",
    "from qiskit.providers.aer import QasmSimulator\n",
    "from numpy import pi\n",
    "from qiskit.circuit import Parameter, ParameterVector\n"
   ]
  },
  {
   "cell_type": "code",
   "execution_count": 2,
   "id": "gX6Uxf_mFfNC",
   "metadata": {
    "id": "gX6Uxf_mFfNC"
   },
   "outputs": [],
   "source": [
    "import numpy as np\n",
    "from numpy import pi, sin, cos, exp\n",
    "import cmath"
   ]
  },
  {
   "cell_type": "markdown",
   "id": "0c1d0f82",
   "metadata": {
    "id": "0c1d0f82"
   },
   "source": [
    "### Defining the input function"
   ]
  },
  {
   "cell_type": "code",
   "execution_count": 3,
   "id": "e79345c2",
   "metadata": {
    "id": "e79345c2"
   },
   "outputs": [],
   "source": [
    "degree = 1\n",
    "scaling = 1\n",
    "coeffs = [0.15 + 0.15j]*degree\n",
    "coeff0 = 0.1\n",
    "\n",
    "#Generate a Fourier series.\n",
    "def function(x):\n",
    "    res = coeff0\n",
    "    for i,c in enumerate(coeffs):\n",
    "        exponent = complex(0, scaling*(i+1)*x)\n",
    "        conj_c = np.conjugate(c)\n",
    "        res += c * np.exp(exponent) + conj_c * np.exp(-exponent)\n",
    "    return np.real(res)"
   ]
  },
  {
   "cell_type": "code",
   "execution_count": 4,
   "id": "3123ae65",
   "metadata": {},
   "outputs": [],
   "source": [
    "#Original data points\n",
    "x = np.linspace(-6,6,70)\n",
    "y_0 = np.array([function(x_) for x_ in x])"
   ]
  },
  {
   "cell_type": "markdown",
   "id": "54ff6dfc-1713-4aef-ac9a-21a101cf2aa0",
   "metadata": {
    "id": "54ff6dfc-1713-4aef-ac9a-21a101cf2aa0"
   },
   "source": [
    "### Defining the Quantum Model\n",
    "> Here we'll define a quantum model using TwoLocal Ansatz coresseponding to the general fourier series.\n",
    "\n",
    "We define a quantum model $f_\\theta(x)$ as the expectation value of some observaable with respect to state prepared using parameterized quantum circuit, i.e.\n",
    "<div><img src=\"b.jpeg\", width = 350, height = 25/></div>\n",
    "\n",
    "The $f_\\theta(x)$ defined above as fourier series is equivalent to this expectation value.\n"
   ]
  },
  {
   "cell_type": "code",
   "execution_count": 5,
   "id": "f3aa7e96-53da-4854-9907-a86d6b1dd716",
   "metadata": {
    "id": "f3aa7e96-53da-4854-9907-a86d6b1dd716"
   },
   "outputs": [],
   "source": [
    "from qiskit.circuit.library import TwoLocal\n",
    "from qiskit.opflow import CircuitStateFn, CircuitOp\n",
    "import matplotlib.pyplot as plt"
   ]
  },
  {
   "cell_type": "code",
   "execution_count": 6,
   "id": "bdfb8c1a-534f-43f8-9c91-a2c12718d81c",
   "metadata": {
    "id": "bdfb8c1a-534f-43f8-9c91-a2c12718d81c"
   },
   "outputs": [],
   "source": [
    "n = 2\n",
    "qc = QuantumCircuit(n)\n",
    "num_parameters = 8"
   ]
  },
  {
   "cell_type": "code",
   "execution_count": 7,
   "id": "45770c3a-8d65-4664-83b6-2fe23053f488",
   "metadata": {
    "id": "45770c3a-8d65-4664-83b6-2fe23053f488"
   },
   "outputs": [],
   "source": [
    "#Data encoding circuit\n",
    "def M(cir, x):\n",
    "    for w in range(n):\n",
    "        cir.rx(scaling*x, w)\n",
    "    return cir\n",
    "\n",
    "#Trainable circuit block (Defining the ansatz)\n",
    "def U(theta):\n",
    "    encode = TwoLocal(num_qubits = 2, reps = 1, rotation_blocks=['ry','rz'], \n",
    "               entanglement_blocks='cx', entanglement='full', insert_barriers=True)\n",
    "    return encode.assign_parameters(theta)\n",
    "    \n",
    "#Defining the Quantum Model. Here we are mapping the data to the fourier series.\n",
    "def Quantum_model(cir, weights, x=None):\n",
    "    weights = weights.reshape(2,num_parameters)\n",
    "    cir = cir.compose(U(weights[0]))\n",
    "    cir = cir.compose(M(cir, x))        \n",
    "    cir = cir.compose(U(weights[1]))\n",
    "    cir = CircuitStateFn(cir)\n",
    "    weights = weights.reshape(1,2*num_parameters)\n",
    "    \n",
    "    circuit = QuantumCircuit(2)\n",
    "    circuit.z(0)\n",
    "    op = CircuitOp(circuit)\n",
    "    \n",
    "    return (cir.adjoint().compose(op).compose(cir).eval().real)*scaling"
   ]
  },
  {
   "cell_type": "code",
   "execution_count": 8,
   "id": "048a5efc-b30b-46aa-9a49-90fc62664e99",
   "metadata": {
    "colab": {
     "base_uri": "https://localhost:8080/",
     "height": 265
    },
    "id": "048a5efc-b30b-46aa-9a49-90fc62664e99",
    "outputId": "92457fb8-fac9-47d5-fbae-f46fa1d6c36c"
   },
   "outputs": [
    {
     "data": {
      "image/png": "[encoded data removed]",
      "text/plain": [
       "<Figure size 432x288 with 1 Axes>"
      ]
     },
     "metadata": {
      "needs_background": "light"
     },
     "output_type": "display_data"
    }
   ],
   "source": [
    "scaling = 1\n",
    "weight = 2*np.pi*np.random.random(size = (1,2*num_parameters))\n",
    "\n",
    "random_y = [Quantum_model(qc, weight, x = x_) for x_ in x]\n",
    "\n",
    "plt.plot(x,random_y, c='blue')\n",
    "plt.plot(x,y_0, c = 'red')\n",
    "\n",
    "plt.show()"
   ]
  },
  {
   "cell_type": "markdown",
   "id": "555405f2",
   "metadata": {
    "id": "555405f2"
   },
   "source": [
    "### Defining the cost function"
   ]
  },
  {
   "cell_type": "code",
   "execution_count": 9,
   "id": "0ff2d0d1",
   "metadata": {
    "id": "0ff2d0d1"
   },
   "outputs": [],
   "source": [
    "def square_loss(targets, predictions):\n",
    "    s = 0\n",
    "    for t, p in zip(targets, predictions):\n",
    "        s = s + (t - p) ** 2\n",
    "    loss = s / 2*len(targets)\n",
    "    return loss\n",
    "\n",
    "def cost(weights):\n",
    "    y = y_0\n",
    "    predictions = [Quantum_model(qc,weights, x=x_) for x_ in x]\n",
    "    return square_loss(y, predictions)"
   ]
  },
  {
   "cell_type": "markdown",
   "id": "3f7edaf8",
   "metadata": {
    "id": "3f7edaf8"
   },
   "source": [
    "### Training the parameters\n",
    "> Here we are optimizing the parameters using a classical optimizer from `scipy.optimize`."
   ]
  },
  {
   "cell_type": "code",
   "execution_count": 10,
   "id": "16ddfc23",
   "metadata": {
    "colab": {
     "base_uri": "https://localhost:8080/"
    },
    "id": "16ddfc23",
    "outputId": "fdec1f71-5557-481f-b229-32fb48e8146e"
   },
   "outputs": [
    {
     "name": "stdout",
     "output_type": "stream",
     "text": [
      "Warning: Maximum number of iterations has been exceeded.\n"
     ]
    }
   ],
   "source": [
    "import scipy.optimize as op\n",
    "weight2 = op.fmin(lambda w: cost(w), weight, xtol=0.0001, ftol=0.0001, maxiter=100,\n",
    "                  maxfun=None, full_output=0, disp=1, retall=0, callback=None)"
   ]
  },
  {
   "cell_type": "code",
   "execution_count": 11,
   "id": "7428c5f8",
   "metadata": {
    "colab": {
     "base_uri": "https://localhost:8080/",
     "height": 265
    },
    "id": "7428c5f8",
    "outputId": "34abe84e-6948-44f9-edd2-ca8f4939fdd2"
   },
   "outputs": [
    {
     "data": {
      "image/png": "[encoded data removed]",
      "text/plain": [
       "<Figure size 432x288 with 1 Axes>"
      ]
     },
     "metadata": {
      "needs_background": "light"
     },
     "output_type": "display_data"
    }
   ],
   "source": [
    "new_weights = np.array(weight2)\n",
    "trained_y = [Quantum_model(qc, new_weights, x = x_) for x_ in x]\n",
    "\n",
    "plt.plot(x, trained_y, c='blue')\n",
    "plt.plot(x,y_0, c = 'red')\n",
    "\n",
    "plt.show()"
   ]
  },
  {
   "cell_type": "markdown",
   "id": "76fa2cb8",
   "metadata": {
    "id": "76fa2cb8"
   },
   "source": [
    "\n",
    "\n",
    "\n",
    "\n",
    "\n",
    "\n",
    "\n"
   ]
  },
  {
   "cell_type": "markdown",
   "id": "86440d6e",
   "metadata": {},
   "source": [
    "### Sampling Fourier coefficient"
   ]
  },
  {
   "cell_type": "code",
   "execution_count": 12,
   "id": "8b2c41a7",
   "metadata": {},
   "outputs": [],
   "source": [
    "#Computes the first 2*K+1 Fourier coefficients of a 2*pi periodic function.\n",
    "\n",
    "def fourier_coefficients(f, K):\n",
    "    n_coeffs = 2*K+1\n",
    "    t = np.linspace(0, 2*np.pi, n_coeffs, endpoint=False)\n",
    "    y = np.fft.rfft(f(t)) / t.size\n",
    "    return y"
   ]
  },
  {
   "cell_type": "code",
   "execution_count": 13,
   "id": "0bb2b2b1",
   "metadata": {},
   "outputs": [],
   "source": [
    "n_coeffs = len(new_weights)\n",
    "n_samples = 100\n",
    "\n",
    "coeffs = []\n",
    "def f(x):\n",
    "    return np.array([Quantum_model(qc, new_weights, x=i) for i in x])\n",
    "\n",
    "coeffs_sample = fourier_coefficients(f, n_coeffs)\n",
    "coeffs.append(coeffs_sample)\n",
    "\n",
    "coeffs = np.array(coeffs)\n",
    "coeffs_real = np.real(coeffs)\n",
    "coeffs_imag = np.imag(coeffs)"
   ]
  },
  {
   "cell_type": "markdown",
   "id": "485e883f",
   "metadata": {},
   "source": [
    "### Display the coefficients of fourier series obtained after training"
   ]
  },
  {
   "cell_type": "code",
   "execution_count": 14,
   "id": "328a622b",
   "metadata": {
    "scrolled": false
   },
   "outputs": [
    {
     "data": {
      "image/png": "[encoded data removed]",
      "text/plain": [
       "<Figure size 1080x288 with 17 Axes>"
      ]
     },
     "metadata": {
      "needs_background": "light"
     },
     "output_type": "display_data"
    }
   ],
   "source": [
    "n_coeffs = len(coeffs_real[0])\n",
    "\n",
    "fig, ax = plt.subplots(1, n_coeffs, figsize=(15,4))\n",
    "\n",
    "for idx, ax_ in enumerate(ax):\n",
    "    ax_.set_title(r\"$c_{}$\".format(idx))\n",
    "    ax_.scatter(coeffs_real[:, idx], coeffs_imag[:, idx], s=35, facecolor='white', edgecolor='red')\n",
    "    ax_.set_aspect(\"equal\")\n",
    "    ax_.set_ylim(-1, 1)\n",
    "    ax_.set_xlim(-1, 1)\n",
    "\n",
    "\n",
    "plt.tight_layout(pad=0.5)\n",
    "plt.show()"
   ]
  },
  {
   "cell_type": "markdown",
   "id": "14c89616",
   "metadata": {},
   "source": [
    "\n",
    "\n",
    "\n"
   ]
  },
  {
   "cell_type": "markdown",
   "id": "d4fe4dac",
   "metadata": {},
   "source": [
    "## Conclusion"
   ]
  },
  {
   "cell_type": "markdown",
   "id": "dc4be4fc",
   "metadata": {},
   "source": [
    "After training the above model for several different input images/data-sets, we draw the following conclusions:  \n",
    "> - Fourier series for any given image or curve can be obtained provided a good ansatz and an apropriate optimiser is used.\n",
    "> - Different input images required different ansatzs.\n",
    "> - Time taken in training the model for a given image depends on the DPI of the image, higher the pixle density more the time taken.\n",
    "\n"
   ]
  },
  {
   "cell_type": "code",
   "execution_count": null,
   "id": "a0357c01",
   "metadata": {},
   "outputs": [],
   "source": []
  }
 ],
 "metadata": {
  "colab": {
   "name": "Almost_Final 2nd.ipynb",
   "provenance": []
  },
  "kernelspec": {
   "display_name": "Python 3 (ipykernel)",
   "language": "python",
   "name": "python3"
  },
  "language_info": {
   "codemirror_mode": {
    "name": "ipython",
    "version": 3
   },
   "file_extension": ".py",
   "mimetype": "text/x-python",
   "name": "python",
   "nbconvert_exporter": "python",
   "pygments_lexer": "ipython3",
   "version": "3.9.4"
  }
 },
 "nbformat": 4,
 "nbformat_minor": 5
}
